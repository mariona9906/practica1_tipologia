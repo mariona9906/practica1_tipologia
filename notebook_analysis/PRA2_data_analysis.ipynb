{
 "cells": [
  {
   "cell_type": "markdown",
   "id": "eae70475",
   "metadata": {},
   "source": [
    "# Practica 2 Tipologia y ciclo de vida de los datos \n",
    "## Dmytro Pravdyvets y Mariona Alberola "
   ]
  },
  {
   "cell_type": "markdown",
   "id": "f66c75d3",
   "metadata": {},
   "source": [
    "## 1. Descripción del dataset\n",
    "### ¿Por qué es importante y qué pregunta/problema pretende responder?"
   ]
  },
  {
   "cell_type": "markdown",
   "id": "7f29ca9f",
   "metadata": {},
   "source": [
    "En esta practica vamos a continuar con el dataset generado en la practica anterior. Como hemos expliado previamente, la idea de estas dos practicas es automatizar la busqueda y seleccion de articulos cientificos de interes. \n",
    "\n",
    "Automatizacion de busqueda de infromacion relevante para un investigador es un proceso que puede beneficiar muchisimo a un cientifico ya que le permitira estar mas tiempo haciendo su trabajo que una maquina no puede hacer. \n",
    "\n",
    "En esta practica vamos a mirar cual es el porcentaje de papers que han aplicado ML y AI en el ambito de inmunologia, que algoritmos se han usado y si hay una tendencia de aumento de papers mas computacionales en los ultimos años. "
   ]
  },
  {
   "cell_type": "markdown",
   "id": "5a91b6a1",
   "metadata": {},
   "source": [
    "## 2. Integración y selección de los datos de interés a analizar"
   ]
  },
  {
   "cell_type": "markdown",
   "id": "03cb6dcd",
   "metadata": {},
   "source": [
    "En la anterior practica solo hemos trabajado con los articulos publicados en el año 2022, no obstante hemos pensado que seria mas interesante aumentar este numero y trabajar con papers en los ultimos 5 años (2017-2022) con un total de _ articulos.\n",
    "\n",
    "Recordemos las columnas de nuestro dataset:\n",
    "\n",
    "*Article*: Nombre del artículo científico.\n",
    "\n",
    "*Summary*: Resumen general de la investigación que se ha llevado a cabo.\n",
    "\n",
    "*Authors*: Nombre de los autores del artículo científico.\n",
    "\n",
    "*Date*: Fecha de publicación.\n",
    "\n",
    "*Access*: Si es de acceso público o se tiene que pagar para acceder al artículo.\n",
    "\n",
    "*Figure*: Una imagen representativa del estudio en cuestión.\n",
    "\n",
    "*Link paper*: Link del artículo científico, los artículos de acceso no público muestran el\n",
    "título del artículo y el resumen general del artículo.\n",
    "\n",
    "*TCR, BCR, T CELL, B CELL, NKC, CD4, CD8, DEEP LEARNING, MACHINE\n",
    "LEARNING y HLA*: palabras clave que nos interesan, en caso de que el estudio\n",
    "contenga esa palabra clave el valor va a ser 1 y en caso de no contenerla será 0.\n",
    "\n",
    "\n",
    "De estas columnas, los keywords es la parte mas interesante ya que nos permitira filltrar el data por los diferentes tipos de celulas (T y B cells) y ver cuantos papers ML y AI para hacer el analysis. \n",
    "\n",
    "Una vez tengamos lo papers de interes podemos aplicar NLP para ver la similaritud de los articulos. La idea que tenemos es a traves del abstract crear un heatmap con las distnacias entre los papers de las subcategorias como T-cell ML, B-cell ML por ejemplo para que nos sea mas facil ver papers parecidos a los papers que hemos detectado como papers de interes manualmente. Por ejemplo, hemos sacado todos los papers de interes y hemos leido el primero que va de clasificacion de celulas T CD4+ utilizando ML, con el heatmap podemos ver que otros papers son parecidos a este para no tener que leernos todos los papers de interes, sino solo los mas parecidos al nuestro paper de interes actual "
   ]
  },
  {
   "cell_type": "code",
   "execution_count": 1,
   "id": "16f1fd59",
   "metadata": {},
   "outputs": [],
   "source": [
    "import pandas as pd"
   ]
  },
  {
   "cell_type": "code",
   "execution_count": 2,
   "id": "6808f6b1",
   "metadata": {},
   "outputs": [
    {
     "data": {
      "text/html": [
       "<div>\n",
       "<style scoped>\n",
       "    .dataframe tbody tr th:only-of-type {\n",
       "        vertical-align: middle;\n",
       "    }\n",
       "\n",
       "    .dataframe tbody tr th {\n",
       "        vertical-align: top;\n",
       "    }\n",
       "\n",
       "    .dataframe thead th {\n",
       "        text-align: right;\n",
       "    }\n",
       "</style>\n",
       "<table border=\"1\" class=\"dataframe\">\n",
       "  <thead>\n",
       "    <tr style=\"text-align: right;\">\n",
       "      <th></th>\n",
       "      <th>Article</th>\n",
       "      <th>Summary</th>\n",
       "      <th>Authors</th>\n",
       "      <th>Date</th>\n",
       "      <th>Access</th>\n",
       "      <th>Figure</th>\n",
       "      <th>Link paper</th>\n",
       "      <th>TCR</th>\n",
       "      <th>BCR</th>\n",
       "      <th>T CELL</th>\n",
       "      <th>B CELL</th>\n",
       "      <th>NKC</th>\n",
       "      <th>CD4</th>\n",
       "      <th>CD8</th>\n",
       "      <th>DEEP LEARNING</th>\n",
       "      <th>MACHINE LEARNING</th>\n",
       "      <th>HLA</th>\n",
       "    </tr>\n",
       "  </thead>\n",
       "  <tbody>\n",
       "    <tr>\n",
       "      <th>0</th>\n",
       "      <td>The receptor DNGR-1 signals for phagosomal rup...</td>\n",
       "      <td>The mechanism by which ingested material acces...</td>\n",
       "      <td>Johnathan CantonHanna BleesCaetano Reis e Sousa</td>\n",
       "      <td>21 Dec 2020</td>\n",
       "      <td>Payed Access</td>\n",
       "      <td>https://media.springernature.com/w290h158/spri...</td>\n",
       "      <td>https://www.nature.com/articles/s41590-020-008...</td>\n",
       "      <td>0</td>\n",
       "      <td>0</td>\n",
       "      <td>1</td>\n",
       "      <td>0</td>\n",
       "      <td>0</td>\n",
       "      <td>0</td>\n",
       "      <td>1</td>\n",
       "      <td>0</td>\n",
       "      <td>0</td>\n",
       "      <td>0</td>\n",
       "    </tr>\n",
       "    <tr>\n",
       "      <th>1</th>\n",
       "      <td>Establishment of an African green monkey model...</td>\n",
       "      <td>Geisbert and colleagues report that African gr...</td>\n",
       "      <td>Courtney WoolseyViktoriya BorisevichRobert W. ...</td>\n",
       "      <td>24 Nov 2020</td>\n",
       "      <td>Payed Access</td>\n",
       "      <td>https://media.springernature.com/w290h158/spri...</td>\n",
       "      <td>https://www.nature.com/articles/s41590-020-008...</td>\n",
       "      <td>0</td>\n",
       "      <td>0</td>\n",
       "      <td>1</td>\n",
       "      <td>0</td>\n",
       "      <td>0</td>\n",
       "      <td>0</td>\n",
       "      <td>0</td>\n",
       "      <td>0</td>\n",
       "      <td>0</td>\n",
       "      <td>0</td>\n",
       "    </tr>\n",
       "    <tr>\n",
       "      <th>2</th>\n",
       "      <td>MEK inhibition reprograms CD8+ T lymphocytes i...</td>\n",
       "      <td>Stem cell–like memory (TSCM) CD8+ T cells are ...</td>\n",
       "      <td>Vivek VermaNazli JafarzadehSamir N. Khleif</td>\n",
       "      <td>23 Nov 2020</td>\n",
       "      <td>Payed Access</td>\n",
       "      <td>https://media.springernature.com/w290h158/spri...</td>\n",
       "      <td>https://www.nature.com/articles/s41590-020-008...</td>\n",
       "      <td>0</td>\n",
       "      <td>0</td>\n",
       "      <td>1</td>\n",
       "      <td>0</td>\n",
       "      <td>0</td>\n",
       "      <td>0</td>\n",
       "      <td>1</td>\n",
       "      <td>0</td>\n",
       "      <td>0</td>\n",
       "      <td>0</td>\n",
       "    </tr>\n",
       "    <tr>\n",
       "      <th>3</th>\n",
       "      <td>CRELD1 modulates homeostasis of the immune sys...</td>\n",
       "      <td>Within a human cohort, wide variation can occu...</td>\n",
       "      <td>Lorenzo BonaguroMaren KöhneAnna C. Aschenbrenner</td>\n",
       "      <td>09 Nov 2020</td>\n",
       "      <td>Payed Access</td>\n",
       "      <td>https://media.springernature.com/w290h158/spri...</td>\n",
       "      <td>https://www.nature.com/articles/s41590-020-008...</td>\n",
       "      <td>0</td>\n",
       "      <td>0</td>\n",
       "      <td>1</td>\n",
       "      <td>0</td>\n",
       "      <td>0</td>\n",
       "      <td>1</td>\n",
       "      <td>0</td>\n",
       "      <td>0</td>\n",
       "      <td>0</td>\n",
       "      <td>0</td>\n",
       "    </tr>\n",
       "    <tr>\n",
       "      <th>4</th>\n",
       "      <td>Proinflammatory IgG Fc structures in patients ...</td>\n",
       "      <td>COVID-19 is often characterized by a hyperinfl...</td>\n",
       "      <td>Saborni ChakrabortyJoseph GonzalezTaia T. Wang</td>\n",
       "      <td>09 Nov 2020</td>\n",
       "      <td>Payed Access</td>\n",
       "      <td>https://media.springernature.com/w290h158/spri...</td>\n",
       "      <td>https://www.nature.com/articles/s41590-020-008...</td>\n",
       "      <td>0</td>\n",
       "      <td>0</td>\n",
       "      <td>0</td>\n",
       "      <td>0</td>\n",
       "      <td>0</td>\n",
       "      <td>0</td>\n",
       "      <td>0</td>\n",
       "      <td>0</td>\n",
       "      <td>0</td>\n",
       "      <td>0</td>\n",
       "    </tr>\n",
       "  </tbody>\n",
       "</table>\n",
       "</div>"
      ],
      "text/plain": [
       "                                             Article  \\\n",
       "0  The receptor DNGR-1 signals for phagosomal rup...   \n",
       "1  Establishment of an African green monkey model...   \n",
       "2  MEK inhibition reprograms CD8+ T lymphocytes i...   \n",
       "3  CRELD1 modulates homeostasis of the immune sys...   \n",
       "4  Proinflammatory IgG Fc structures in patients ...   \n",
       "\n",
       "                                             Summary  \\\n",
       "0  The mechanism by which ingested material acces...   \n",
       "1  Geisbert and colleagues report that African gr...   \n",
       "2  Stem cell–like memory (TSCM) CD8+ T cells are ...   \n",
       "3  Within a human cohort, wide variation can occu...   \n",
       "4  COVID-19 is often characterized by a hyperinfl...   \n",
       "\n",
       "                                             Authors         Date  \\\n",
       "0    Johnathan CantonHanna BleesCaetano Reis e Sousa  21 Dec 2020   \n",
       "1  Courtney WoolseyViktoriya BorisevichRobert W. ...  24 Nov 2020   \n",
       "2         Vivek VermaNazli JafarzadehSamir N. Khleif  23 Nov 2020   \n",
       "3   Lorenzo BonaguroMaren KöhneAnna C. Aschenbrenner  09 Nov 2020   \n",
       "4     Saborni ChakrabortyJoseph GonzalezTaia T. Wang  09 Nov 2020   \n",
       "\n",
       "         Access                                             Figure  \\\n",
       "0  Payed Access  https://media.springernature.com/w290h158/spri...   \n",
       "1  Payed Access  https://media.springernature.com/w290h158/spri...   \n",
       "2  Payed Access  https://media.springernature.com/w290h158/spri...   \n",
       "3  Payed Access  https://media.springernature.com/w290h158/spri...   \n",
       "4  Payed Access  https://media.springernature.com/w290h158/spri...   \n",
       "\n",
       "                                          Link paper  TCR  BCR  T CELL  \\\n",
       "0  https://www.nature.com/articles/s41590-020-008...    0    0       1   \n",
       "1  https://www.nature.com/articles/s41590-020-008...    0    0       1   \n",
       "2  https://www.nature.com/articles/s41590-020-008...    0    0       1   \n",
       "3  https://www.nature.com/articles/s41590-020-008...    0    0       1   \n",
       "4  https://www.nature.com/articles/s41590-020-008...    0    0       0   \n",
       "\n",
       "   B CELL  NKC  CD4  CD8  DEEP LEARNING  MACHINE LEARNING  HLA  \n",
       "0       0    0    0    1              0                 0    0  \n",
       "1       0    0    0    0              0                 0    0  \n",
       "2       0    0    0    1              0                 0    0  \n",
       "3       0    0    1    0              0                 0    0  \n",
       "4       0    0    0    0              0                 0    0  "
      ]
     },
     "execution_count": 2,
     "metadata": {},
     "output_type": "execute_result"
    }
   ],
   "source": [
    "data=pd.read_csv(\"../dataset/2022_immuno_articles.csv\")\n",
    "data.head()"
   ]
  },
  {
   "cell_type": "markdown",
   "id": "c179199b",
   "metadata": {},
   "source": [
    "## 3. Limpieza de los datos"
   ]
  },
  {
   "cell_type": "code",
   "execution_count": null,
   "id": "46bc0c19",
   "metadata": {},
   "outputs": [],
   "source": []
  },
  {
   "cell_type": "markdown",
   "id": "86457e4e",
   "metadata": {},
   "source": [
    "## 4. Análisis de los datos"
   ]
  },
  {
   "cell_type": "code",
   "execution_count": null,
   "id": "9b2a0a0a",
   "metadata": {},
   "outputs": [],
   "source": []
  },
  {
   "cell_type": "markdown",
   "id": "43b18d1d",
   "metadata": {},
   "source": [
    "## 5. Representación de los resultados"
   ]
  },
  {
   "cell_type": "code",
   "execution_count": null,
   "id": "ad50a35a",
   "metadata": {},
   "outputs": [],
   "source": []
  },
  {
   "cell_type": "markdown",
   "id": "2d9e28f2",
   "metadata": {},
   "source": [
    "## 6. Resolución del problema"
   ]
  },
  {
   "cell_type": "code",
   "execution_count": null,
   "id": "390885cb",
   "metadata": {},
   "outputs": [],
   "source": []
  }
 ],
 "metadata": {
  "kernelspec": {
   "display_name": "Python 3 (ipykernel)",
   "language": "python",
   "name": "python3"
  },
  "language_info": {
   "codemirror_mode": {
    "name": "ipython",
    "version": 3
   },
   "file_extension": ".py",
   "mimetype": "text/x-python",
   "name": "python",
   "nbconvert_exporter": "python",
   "pygments_lexer": "ipython3",
   "version": "3.8.8"
  }
 },
 "nbformat": 4,
 "nbformat_minor": 5
}
